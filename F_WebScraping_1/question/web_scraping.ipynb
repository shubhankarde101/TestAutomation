{
 "cells": [
  {
   "cell_type": "markdown",
   "metadata": {},
   "source": [
    "## Welcome to your first casestudy\n",
    "- In this case study you have to scrape weather data from the website  **\"http://www.estesparkweather.net/archive_reports.php?date=200901\"**\n",
    "- Scrape all the available attributes of weather data for each day from **2009-01-01 to 2018-10-28**\n",
    "- Ignore records for missing days\n",
    "- Represent the scraped data as **pandas dataframe** object."
   ]
  },
  {
   "cell_type": "markdown",
   "metadata": {},
   "source": [
    "### Dataframe specific deatails\n",
    "- Expected column names (order dose not matter):   \n",
    "       ['Average temperature (°F)', 'Average humidity (%)',\n",
    "       'Average dewpoint (°F)', 'Average barometer (in)',\n",
    "       'Average windspeed (mph)', 'Average gustspeed (mph)',\n",
    "       'Average direction (°deg)', 'Rainfall for month (in)',\n",
    "       'Rainfall for year (in)', 'Maximum rain per minute',\n",
    "       'Maximum temperature (°F)', 'Minimum temperature (°F)',\n",
    "       'Maximum humidity (%)', 'Minimum humidity (%)', 'Maximum pressure',\n",
    "       'Minimum pressure', 'Maximum windspeed (mph)',\n",
    "       'Maximum gust speed (mph)', 'Maximum heat index (°F)']\n",
    "- Each record in the dataframe corresponds to weather deatils of a given day\n",
    "- Make sure the index column is **date-time format (yyyy-mm-dd)**\n",
    "- Perform necessary data cleaning and type cast each attributes to relevent data type"
   ]
  },
  {
   "cell_type": "markdown",
   "metadata": {},
   "source": [
    "### Saving the dataframe\n",
    "- Once you are done with you scrapping save your dataframe as pickle file by name 'dataframe.pk'\n",
    "\n",
    "#### Sample code to save pickle file\n",
    "```python\n",
    "import pickle\n",
    "with open(\"dataframe.pk\", \"wb\") as file:\n",
    "    pickle.dump(<your_dataframe>, file)\n",
    "```\n",
    " \n",
    " "
   ]
  },
  {
   "cell_type": "markdown",
   "metadata": {},
   "source": [
    "### Run the below cell to import necessary packages\n",
    "- These packages should be sufficient to perform you task\n",
    "- In case if you are looking are any other packages run **!pip3 install <package_name> --user with in a cell**"
   ]
  },
  {
   "cell_type": "code",
   "execution_count": 4,
   "metadata": {},
   "outputs": [],
   "source": [
    "import bs4\n",
    "from bs4 import BeautifulSoup\n",
    "import csv\n",
    "import requests\n",
    "import time\n",
    "import pandas as pd\n",
    "import urllib\n",
    "import re\n",
    "import pickle\n"
   ]
  },
  {
   "cell_type": "code",
   "execution_count": 8,
   "metadata": {},
   "outputs": [
    {
     "ename": "NameError",
     "evalue": "name 'dfdf' is not defined",
     "output_type": "error",
     "traceback": [
      "\u001b[1;31m---------------------------------------------------------------------------\u001b[0m",
      "\u001b[1;31mNameError\u001b[0m                                 Traceback (most recent call last)",
      "\u001b[1;32m<ipython-input-8-ef314b48bf28>\u001b[0m in \u001b[0;36m<module>\u001b[1;34m\u001b[0m\n\u001b[0;32m      3\u001b[0m \u001b[0mr\u001b[0m \u001b[1;33m=\u001b[0m \u001b[0mrequests\u001b[0m\u001b[1;33m.\u001b[0m\u001b[0mget\u001b[0m\u001b[1;33m(\u001b[0m\u001b[0mURL\u001b[0m\u001b[1;33m)\u001b[0m\u001b[1;33m\u001b[0m\u001b[1;33m\u001b[0m\u001b[0m\n\u001b[0;32m      4\u001b[0m \u001b[0msoup\u001b[0m \u001b[1;33m=\u001b[0m \u001b[0mBeautifulSoup\u001b[0m\u001b[1;33m(\u001b[0m\u001b[0mr\u001b[0m\u001b[1;33m.\u001b[0m\u001b[0mcontent\u001b[0m\u001b[1;33m,\u001b[0m \u001b[1;34m'html5lib'\u001b[0m\u001b[1;33m)\u001b[0m\u001b[1;33m\u001b[0m\u001b[1;33m\u001b[0m\u001b[0m\n\u001b[1;32m----> 5\u001b[1;33m \u001b[0mdfdf\u001b[0m\u001b[1;33m\u001b[0m\u001b[1;33m\u001b[0m\u001b[0m\n\u001b[0m\u001b[0;32m      6\u001b[0m \u001b[1;33m\u001b[0m\u001b[0m\n\u001b[0;32m      7\u001b[0m \u001b[1;33m\u001b[0m\u001b[0m\n",
      "\u001b[1;31mNameError\u001b[0m: name 'dfdf' is not defined"
     ]
    }
   ],
   "source": [
    "#### Start you code here, you are free to add any number of cells\n",
    "#Date Range 2009-01-01 to 2018-10-28\n",
    "\n",
    "URL = \"http://www.estesparkweather.net/archive_reports.php?date=200901\"\n",
    "r = requests.get(URL)\n",
    "soup = BeautifulSoup(r.content, 'html5lib')\n",
    "soup.\n",
    "\n",
    "\n",
    "\n",
    "\n",
    "\n",
    "\n",
    "\n",
    "\n",
    "\n",
    "\n",
    "\n",
    "\n",
    "\n"
   ]
  },
  {
   "cell_type": "code",
   "execution_count": null,
   "metadata": {},
   "outputs": [],
   "source": []
  }
 ],
 "metadata": {
  "kernelspec": {
   "display_name": "Python 3",
   "language": "python",
   "name": "python3"
  },
  "language_info": {
   "codemirror_mode": {
    "name": "ipython",
    "version": 3
   },
   "file_extension": ".py",
   "mimetype": "text/x-python",
   "name": "python",
   "nbconvert_exporter": "python",
   "pygments_lexer": "ipython3",
   "version": "3.7.4"
  }
 },
 "nbformat": 4,
 "nbformat_minor": 2
}
