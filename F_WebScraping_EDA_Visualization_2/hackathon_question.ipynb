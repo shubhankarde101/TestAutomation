{
 "cells": [
  {
   "cell_type": "markdown",
   "metadata": {},
   "source": [
    "                                   Hackathon for Machine Learning Engineer\n",
    "                       Web Scrapping, Data Cleaning & Exploratory Analysis with Python"
   ]
  },
  {
   "cell_type": "markdown",
   "metadata": {},
   "source": [
    "- In this challenge you will be scrapping the data related to cryptocurrencies, perform necessary datacleaning and build few visualization plots.\n",
    "- Please follow the instructions provided for each cell to complete this hackathon"
   ]
  },
  {
   "cell_type": "markdown",
   "metadata": {},
   "source": [
    "### Importing required libraries\n",
    "- Run the below cell to load the python libraries, necessary for solving this exercise."
   ]
  },
  {
   "cell_type": "code",
   "execution_count": null,
   "metadata": {
    "collapsed": true
   },
   "outputs": [],
   "source": [
    "# Run this cell to load the necessary python libraries\n",
    "from requests import get\n",
    "from urllib.request import urlopen\n",
    "from bs4 import BeautifulSoup\n",
    "import pandas as pd\n",
    "import seaborn as sns\n",
    "import numpy as np  \n",
    "import re \n",
    "import pickle"
   ]
  },
  {
   "cell_type": "markdown",
   "metadata": {},
   "source": [
    "### Parsing of a Web Page\n",
    "- Parse the webpage **file:data/input_html/Cryptocurrency Market Capitalizations _ CoinMarketCap.html** and assign the result to variable **html**. \n",
    "- Then covert the **html** object into a BeautifulSoup object named **html_soup**."
   ]
  },
  {
   "cell_type": "code",
   "execution_count": null,
   "metadata": {
    "collapsed": true
   },
   "outputs": [],
   "source": [
    "# Write your code below\n",
    "\n",
    "html =        #parse the webpage\n",
    "html_soup =   #Convert the parsed page into beautifulsoup object"
   ]
  },
  {
   "cell_type": "markdown",
   "metadata": {},
   "source": [
    "### FInding all 'tr' elements\n",
    "- Find all 'tr' elements, present in **'html_soup'** object and store the result in variable **'crypto_containers'**"
   ]
  },
  {
   "cell_type": "code",
   "execution_count": null,
   "metadata": {
    "collapsed": true
   },
   "outputs": [],
   "source": [
    "# Write your code below to obtain all 'tr' elements\n",
    "###Start code here\n",
    "crypto_containers ="
   ]
  },
  {
   "cell_type": "markdown",
   "metadata": {},
   "source": [
    "### Intializing List\n",
    "- Run the below cell to initialize seven lists, which you have to use to capture all values of seven columns, listed in below cell.\n",
    "- NOTE: use this link __https://coinmarketcap.com/__ to view webpage in your browser.**This page is just for your reference to understand the the page structure which shows current day market information**. The structure of this page is similar to the page used for this exercise."
   ]
  },
  {
   "cell_type": "code",
   "execution_count": null,
   "metadata": {
    "collapsed": true
   },
   "outputs": [],
   "source": [
    "# Lists to store the scraped data in\n",
    "rank = []                    #List for rank of the currency (first column in the webpage)\n",
    "currency_name = []           #List for name of the currency\n",
    "market_cap = []              #List for market cap\n",
    "price = []                   #List for price of the crypto currency\n",
    "volume = []                  #List for Volume(24h)\n",
    "supply = []                  #List for Circulating supply\n",
    "change = []                  #List for Change(24h)"
   ]
  },
  {
   "cell_type": "markdown",
   "metadata": {},
   "source": [
    "### Extracting necessary information from 'crypto_containers'\n",
    "- Extract the text associated with all above mentioned seven columns of all records present in **'crypto_containers'** object.\n",
    "- NOTE: use this link __https://coinmarketcap.com/__ to view webpage in your browser.**This page is just for your reference to understand the the page structure which shows current day market information**. The structure of this page is similar to the page used for this exercise."
   ]
  },
  {
   "cell_type": "code",
   "execution_count": 1,
   "metadata": {},
   "outputs": [],
   "source": [
    "# Write your code for extracting data from each crytocurrency row. \n",
    "# perform necessary data cleaning operations\n",
    "# hint: use for loop to iterate through each container and process every column value and \n",
    "# add it to corresponding list defined above\n",
    "\n",
    "###Start code here\n",
    "\n",
    "\n"
   ]
  },
  {
   "cell_type": "markdown",
   "metadata": {},
   "source": [
    "### Creating 'crypto_df' Data Frame\n",
    "- Run the below cell to load the data in above defined lists into the dataframe 'crypto_df'"
   ]
  },
  {
   "cell_type": "code",
   "execution_count": null,
   "metadata": {
    "collapsed": true
   },
   "outputs": [],
   "source": [
    "crypto_df = pd.DataFrame({\n",
    "                         'rank' : rank,\n",
    "                         'currency_name' : currency_name,\n",
    "                         'market_cap' : market_cap,\n",
    "                         'price' : price,\n",
    "                         'volume' : volume,\n",
    "                         'supply' : supply,\n",
    "                         'change' : change\n",
    "                         })"
   ]
  },
  {
   "cell_type": "markdown",
   "metadata": {},
   "source": [
    "### Transforming 'crypto_df' Data Frame\n",
    "- Modify values of the columns : **'market_cap', 'price', 'volume', 'change', 'supply'**. Remove unwanted characters like **dollar symbol (\\$)**, **comma symbol (,)** and convert them into corresponding data type ie. int or float.\n",
    "- After transformation, the first five rows of the dataframe should look as shown in the figure below \n",
    "<img src = \"expected_dataframe.png\">"
   ]
  },
  {
   "cell_type": "code",
   "execution_count": null,
   "metadata": {
    "collapsed": true
   },
   "outputs": [],
   "source": [
    "# Write the code below for transforming 'crypto_df' Data Frame\n",
    "\n",
    "###Start code here\n",
    "\n"
   ]
  },
  {
   "cell_type": "markdown",
   "metadata": {},
   "source": [
    "### Plot1 - Top 10 Cryptocurrencies with highest Market Capital\n",
    "- Create a horizontal bar plot using seaborn to show Top 10 Cryptocurrencies with highest Market Capital.  Order the cryptocurrencies in Descending order. i.e bar corresponding to cryptocurrency with highest market value must be on top of bar plot.\n",
    "- Let figure size and other properties of plot be default ones.\n",
    "- **Save the created barplot into the variable 'plot1'**"
   ]
  },
  {
   "cell_type": "code",
   "execution_count": null,
   "metadata": {
    "collapsed": true
   },
   "outputs": [],
   "source": [
    "# Write code below for drawing barplot and storing it in variable 'plot1' \n",
    "\n",
    "###Start code here\n",
    "\n",
    "\n"
   ]
  },
  {
   "cell_type": "markdown",
   "metadata": {},
   "source": [
    "- Perform Data serialization of **plot1** object into **plot1.pk** file, below. Hint: Use pickle"
   ]
  },
  {
   "cell_type": "code",
   "execution_count": null,
   "metadata": {
    "collapsed": true
   },
   "outputs": [],
   "source": [
    "# Dump 'plot1' object into 'plot1.pk'\n",
    "# Write your code below.\n",
    "\n",
    "###Start code here\n",
    "\n",
    "\n"
   ]
  },
  {
   "cell_type": "markdown",
   "metadata": {},
   "source": [
    "### Plot2 - Trend of Price with Market Value observed in 50 Cryptocurrencies with higest Market Value.\n",
    "- Create a scatter plot to show both Market Capital and Price for 50 Cryptocurrencies, with higest Market Value.\n",
    "- **Save the created scatterplot into the variable 'plot2'**.\n",
    "- Set the figure size to 10 inches in width and 2 inches in height respectively."
   ]
  },
  {
   "cell_type": "code",
   "execution_count": null,
   "metadata": {
    "collapsed": true
   },
   "outputs": [],
   "source": [
    "# Write code below for drawing scatterplot and storing it in variable 'plot2'. \n",
    "# Also set figure size to 10 inches in width, 2 inches in height. \n",
    "\n",
    "###Start code here \n",
    "\n"
   ]
  },
  {
   "cell_type": "markdown",
   "metadata": {},
   "source": [
    "- Perform Data serialization of **plot2** object into **plot2.pk** file, below. Hint: Use pickle"
   ]
  },
  {
   "cell_type": "code",
   "execution_count": null,
   "metadata": {
    "collapsed": true
   },
   "outputs": [],
   "source": [
    "# Dump 'plot2' object into 'plot2.pk'\n",
    "# Write your code below.\n",
    "\n",
    "###Start code here \n",
    "\n"
   ]
  },
  {
   "cell_type": "markdown",
   "metadata": {},
   "source": [
    "### Plot3 - Trend of Price with Positive change\n",
    "- Using seaborn pairplot create a scatter plot to 24 hours Volume and Price for all 100 Cryptocurrencies\n",
    "- **Save the created scatterplot into the variable 'plot3'**.\n",
    "- Set the figure size to 10 inches in width and 2 inches in height respectively."
   ]
  },
  {
   "cell_type": "code",
   "execution_count": null,
   "metadata": {
    "collapsed": true
   },
   "outputs": [],
   "source": [
    "# Write code below for drawing scatterplot and storing it in variable 'plot3'. \n",
    "# Also set figure size to 10 inches in width, 2 inches in height.\n",
    "\n",
    "###Start code here\n",
    "\n"
   ]
  },
  {
   "cell_type": "markdown",
   "metadata": {},
   "source": [
    "- Perform Data serialization of **plot3** object into **plot3.pk** file, below. Hint: Use Pickle"
   ]
  },
  {
   "cell_type": "code",
   "execution_count": null,
   "metadata": {
    "collapsed": true
   },
   "outputs": [],
   "source": [
    "# Dump 'plot3' object into 'plot3.pk'\n",
    "# Write your code below.\n",
    "\n",
    "###Start code here\n",
    "\n",
    "\n"
   ]
  },
  {
   "cell_type": "markdown",
   "metadata": {},
   "source": [
    "### Plot4 - Top 10 Cryptocurrencies with highest positive change\n",
    "- Plot bar plot using seaborn for 24h Changes and of top 10 cryptocurrencies in terms of positive change in last 24 hours. \n",
    "- Order the cryptocurrencies in Descending order. i.e bar corresponding to cryptocurrency with highest positive change must be on top of bar plot.\n",
    "- Let figure size and other properties of plot be default ones.\n",
    "- **Save the created barplot into the variable 'plot4'**."
   ]
  },
  {
   "cell_type": "code",
   "execution_count": null,
   "metadata": {
    "collapsed": true
   },
   "outputs": [],
   "source": [
    "# Write code below for drawing barplot and storing it in variable 'plot4' \n",
    "\n",
    "###Start code here\n",
    "\n"
   ]
  },
  {
   "cell_type": "markdown",
   "metadata": {},
   "source": [
    "- Perform Data serialization of **plot4** object into **plot4.pk** file, below. Hint : Use pickle"
   ]
  },
  {
   "cell_type": "code",
   "execution_count": null,
   "metadata": {
    "collapsed": true
   },
   "outputs": [],
   "source": [
    "# Dump 'plot4' object into 'plot4.pk'\n",
    "# Write your code below.\n",
    "\n",
    "###Start code here\n",
    "\n",
    "\n"
   ]
  }
 ],
 "metadata": {
  "kernelspec": {
   "display_name": "Python 3",
   "language": "python",
   "name": "python3"
  },
  "language_info": {
   "codemirror_mode": {
    "name": "ipython",
    "version": 3
   },
   "file_extension": ".py",
   "mimetype": "text/x-python",
   "name": "python",
   "nbconvert_exporter": "python",
   "pygments_lexer": "ipython3",
   "version": "3.5.0"
  }
 },
 "nbformat": 4,
 "nbformat_minor": 2
}
