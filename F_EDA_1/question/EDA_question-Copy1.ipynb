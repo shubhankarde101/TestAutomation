{
 "cells": [
  {
   "cell_type": "markdown",
   "metadata": {},
   "source": [
    "### Directions\n",
    "    - The data required for this task has been provided in the file 'data.csv'\n",
    "    - Read the questions provided for each cell and assign your answers to respective variables provided in the following cell.\n",
    "    - If answers are floating point numbers round of updo two floating point after the decimal\n",
    "      - for example 10.546 should be read as 10.55, 10.544 as 10.54 and 10.1 as 10.10\n",
    "    - pandas and numpy packages are preinstalled for this task which should be sufficient to complete this task.\n",
    "    - If you need any other additional package run !pip3 install <package_name> --user in a new cell.\n",
    "    - You can either try out the solution in the same notebook or free to create additional notebook, but make sure you come back to this notebook to answer the questions.\n",
    "    - Please dont change variable name meant to assign your answers.\n",
    "    - You can create a new notebook to write your scripts for EDA and use this notebook to assign the answers."
   ]
  },
  {
   "cell_type": "code",
   "execution_count": null,
   "metadata": {},
   "outputs": [],
   "source": [
    "import pandas as pd\n",
    "import numpy as np\n",
    "from datetime import datetime"
   ]
  },
  {
   "cell_type": "code",
   "execution_count": null,
   "metadata": {},
   "outputs": [],
   "source": []
  },
  {
   "cell_type": "code",
   "execution_count": null,
   "metadata": {},
   "outputs": [],
   "source": [
    "### Read the data (this will not be graded)\n",
    "data = pd.read_csv(\"data.csv\")\n",
    "data.info()\n",
    "data['Day'].apply(lambda x: datetime.strptime(x, \"%d/%m/%Y\"))\n",
    "data.info()\n",
    "\n",
    "\n",
    "\n",
    "\n",
    "\n",
    "\n",
    "\n",
    "\n"
   ]
  },
  {
   "cell_type": "markdown",
   "metadata": {},
   "source": [
    "### What is the standard deviation of maximum windspeed across all the days"
   ]
  },
  {
   "cell_type": "code",
   "execution_count": 16,
   "metadata": {},
   "outputs": [
    {
     "name": "stdout",
     "output_type": "stream",
     "text": [
      "13.06\n"
     ]
    }
   ],
   "source": [
    "ws_std=round(np.std(data['Maximum windspeed (mph)']),2)\n",
    "print(ws_std)\n"
   ]
  },
  {
   "cell_type": "markdown",
   "metadata": {},
   "source": [
    "### What is the difference between 50th percentile and 75th percentile of average temperature"
   ]
  },
  {
   "cell_type": "code",
   "execution_count": 17,
   "metadata": {},
   "outputs": [
    {
     "name": "stdout",
     "output_type": "stream",
     "text": [
      "12.2\n"
     ]
    }
   ],
   "source": [
    "x_fifty = data['Average temperature (°F)'].quantile(0.5)\n",
    "x_seventyfive = data['Average temperature (°F)'].quantile(0.75)\n",
    "p_range=round(x_seventyfive-x_fifty,2)\n",
    "print(p_range)\n"
   ]
  },
  {
   "cell_type": "markdown",
   "metadata": {},
   "source": [
    "### What is the pearson correlation between average dew point and average temperature"
   ]
  },
  {
   "cell_type": "code",
   "execution_count": 18,
   "metadata": {},
   "outputs": [
    {
     "name": "stdout",
     "output_type": "stream",
     "text": [
      "0.76\n"
     ]
    }
   ],
   "source": [
    "corr=round(data['Average temperature (°F)'].corr(data['Average dewpoint (°F)'], method='pearson'),2)\n",
    "print(corr)\n"
   ]
  },
  {
   "cell_type": "markdown",
   "metadata": {},
   "source": [
    "### Out of all the available records which month has the lowest average humidity.\n",
    "    - Assign your answer as month index, for example if its July index is 7"
   ]
  },
  {
   "cell_type": "code",
   "execution_count": 19,
   "metadata": {},
   "outputs": [
    {
     "name": "stdout",
     "output_type": "stream",
     "text": [
      "1\n"
     ]
    }
   ],
   "source": [
    "from datetime import datetime\n",
    "min_val = np.min(data['Average humidity (%)'])\n",
    "ind = list(data[data['Average humidity (%)'] == min_val].index)\n",
    "a = []\n",
    "for i in ind:\n",
    "    a.append(datetime.strptime(data['Day'][i], \"%d/%m/%Y\").month)\n",
    "dew_month=a[0]\n",
    "print(dew_month)\n"
   ]
  },
  {
   "cell_type": "markdown",
   "metadata": {},
   "source": [
    "### Which month has the highest median for maximum_gust_speed out of all the available records. Also find the repective value\n",
    "    - hint: group by month"
   ]
  },
  {
   "cell_type": "code",
   "execution_count": 20,
   "metadata": {},
   "outputs": [],
   "source": [
    "a = []\n",
    "for i in data['Day']:\n",
    "    a.append(datetime.strptime(i, \"%d/%m/%Y\").month)   \n",
    "data.insert(0,'Month',a,True)\n",
    "\n"
   ]
  },
  {
   "cell_type": "code",
   "execution_count": 21,
   "metadata": {},
   "outputs": [
    {
     "name": "stdout",
     "output_type": "stream",
     "text": [
      "34.5\n",
      "2\n"
     ]
    }
   ],
   "source": [
    "x = data.groupby('Month').agg(median_Gust_Speed=('Maximum gust speed (mph)',np.median))\n",
    "x1=np.max(x['median_Gust_Speed'])\n",
    "x2=list(x[x['median_Gust_Speed']==x1].index)\n",
    "max_gust_value=x1\n",
    "max_gust_month=x2[0]\n",
    "print(max_gust_value)\n",
    "print(max_gust_month)\n",
    "data = data.drop(columns='Month')\n"
   ]
  },
  {
   "cell_type": "markdown",
   "metadata": {},
   "source": [
    "### Determine the average temperature between the months of March 2010 to May 2012 (including both the months)"
   ]
  },
  {
   "cell_type": "code",
   "execution_count": 22,
   "metadata": {},
   "outputs": [
    {
     "name": "stdout",
     "output_type": "stream",
     "text": [
      "45.33\n"
     ]
    }
   ],
   "source": [
    "a = list(data[data['Day']=='1/03/2010'].index)[0]\n",
    "b = list(data[data['Day']=='31/05/2012'].index)[0]\n",
    "avg_temp = round(np.mean(data['Average temperature (°F)'][a:b+1]),2)\n",
    "print(avg_temp)\n"
   ]
  },
  {
   "cell_type": "markdown",
   "metadata": {},
   "source": [
    "### Find the range of averange temperature  on Dec 2010 "
   ]
  },
  {
   "cell_type": "code",
   "execution_count": 23,
   "metadata": {},
   "outputs": [
    {
     "name": "stdout",
     "output_type": "stream",
     "text": [
      "44.8\n"
     ]
    }
   ],
   "source": [
    "a = list(data[data['Day']=='2/12/2010'].index)[0]\n",
    "b = list(data[data['Day']=='31/12/2010'].index)[0]\n",
    "temp_range = np.ptp(data['Average temperature (°F)'][a:b+1],axis=0)\n",
    "print(temp_range)\n",
    "\n",
    "\n",
    "\n"
   ]
  },
  {
   "cell_type": "markdown",
   "metadata": {},
   "source": [
    "### Out of all available records which day has the highest difference between maximum_pressure and minimum_pressure\n",
    "    - assign the date in string format as 'yyyy-mm-dd'. Make sure you enclose it with single quote"
   ]
  },
  {
   "cell_type": "code",
   "execution_count": 24,
   "metadata": {
    "scrolled": true
   },
   "outputs": [
    {
     "name": "stdout",
     "output_type": "stream",
     "text": [
      "2018-03-23\n"
     ]
    }
   ],
   "source": [
    "x=data['Maximum pressure ']-data['Minimum pressure ']\n",
    "y = x.idxmax(x)\n",
    "#print(x)\n",
    "a,b,c = data['Day'][y].split('/')\n",
    "max_p_range_day='{}-{}-{}'.format(c,b,a)\n",
    "print(max_p_range_day)\n",
    "\n",
    "\n",
    "\n",
    "\n",
    " "
   ]
  },
  {
   "cell_type": "markdown",
   "metadata": {},
   "source": [
    "### How many days falls under median (i.e equal to median value) of barrometer reading."
   ]
  },
  {
   "cell_type": "code",
   "execution_count": 25,
   "metadata": {},
   "outputs": [
    {
     "name": "stdout",
     "output_type": "stream",
     "text": [
      "534\n"
     ]
    }
   ],
   "source": [
    "m = np.median(data['Average barometer (in)'])\n",
    "x = data.groupby('Average barometer (in)')\n",
    "y = len(x.get_group(m))\n",
    "median_b_days = y\n",
    "print(median_b_days)\n",
    "\n",
    "\n",
    "\n",
    "\n",
    "\n",
    "        "
   ]
  },
  {
   "cell_type": "markdown",
   "metadata": {},
   "source": [
    "### Out of all the available records how many days are within one standard deviation of average temperaturem"
   ]
  },
  {
   "cell_type": "code",
   "execution_count": null,
   "metadata": {},
   "outputs": [
    {
     "name": "stdout",
     "output_type": "stream",
     "text": [
      "45.16\n",
      "15.19\n",
      "30.0\n",
      "60.3\n"
     ]
    }
   ],
   "source": [
    "m = round(np.mean(data['Average temperature (°F)'],axis=0),2)\n",
    "s = round(np.std(data['Average temperature (°F)'],axis=0),2)\n",
    "print(m)\n",
    "print(s)\n",
    "x1 = round((m-s),1)\n",
    "x2 = round((m+s),1)\n",
    "\n",
    "print(x1)\n",
    "print(x2)\n",
    "a=[]\n",
    "for i in data['Average temperature (°F)']:\n",
    "    if(i>=x1 and i<=x2):\n",
    "        buff = data[data['Average temperature (°F)']==i].index\n",
    "        a.append(data['Day'][buff])\n",
    "\n",
    "print(len(a))\n",
    "\n",
    "  "
   ]
  },
  {
   "cell_type": "markdown",
   "metadata": {},
   "source": [
    "## Once you are done with your solution make sure you have saved the notebook (ctrl + s)"
   ]
  },
  {
   "cell_type": "code",
   "execution_count": null,
   "metadata": {},
   "outputs": [],
   "source": []
  }
 ],
 "metadata": {
  "kernelspec": {
   "display_name": "Python 3",
   "language": "python",
   "name": "python3"
  },
  "language_info": {
   "codemirror_mode": {
    "name": "ipython",
    "version": 3
   },
   "file_extension": ".py",
   "mimetype": "text/x-python",
   "name": "python",
   "nbconvert_exporter": "python",
   "pygments_lexer": "ipython3",
   "version": "3.7.4"
  }
 },
 "nbformat": 4,
 "nbformat_minor": 2
}
